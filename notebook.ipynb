{
 "cells": [
  {
   "cell_type": "code",
   "execution_count": 2,
   "metadata": {},
   "outputs": [
    {
     "name": "stdout",
     "output_type": "stream",
     "text": [
      "c:\\Users\\HP\\Desktop\\Code\\telebot\\geckodriver.exe\n",
      "C:\\Program Files\\Mozilla Firefox\\firefox.exe\n",
      "<selenium.webdriver.firefox.service.Service object at 0x000001FEBF313490>\n"
     ]
    }
   ],
   "source": [
    "import time\n",
    "import os\n",
    "import requests\n",
    "from selenium import webdriver\n",
    "from selenium.webdriver.firefox.service import Service as FirefoxService\n",
    "from selenium.webdriver.firefox.options import Options\n",
    "from webdriver_manager.firefox import GeckoDriverManager\n",
    "from selenium.webdriver.common.by import By\n",
    "from selenium.webdriver.support.ui import WebDriverWait\n",
    "from selenium.webdriver.support import expected_conditions as EC\n",
    "\n",
    "\n",
    "current_directory = os.getcwd()\n",
    "binary_path = r'C:\\Program Files\\Mozilla Firefox\\firefox.exe'\n",
    "driver_path = os.path.join(current_directory, 'geckodriver.exe')\n",
    "\n",
    "telegram_bot_token = '6390749083:AAEgj_x55u7Cb6924mFAgqLZS3rr48Y-bh0'\n",
    "telegram_chat_id = '1442687992'\n",
    "\n",
    "previous_content = ''\n",
    "\n",
    "print(driver_path)\n",
    "options = Options()\n",
    "options.binary_location = binary_path\n",
    "print(options.binary_location)\n",
    "service = FirefoxService(GeckoDriverManager().install())\n",
    "print(service)\n",
    "driver = webdriver.Firefox(service=service, options= options)\n",
    "\n",
    "\n",
    "def check_table():\n",
    "    global previous_content\n",
    "    driver.get(\"http://hastarandevu.uludag.edu.tr/MiaHbysRandevu\")\n",
    "\n",
    "    modal = WebDriverWait(driver, 10).until(EC.presence_of_element_located((By.ID, 'ModalUyariWeb')))\n",
    "\n",
    "    close_button = WebDriverWait(driver, 10).until(EC.presence_of_element_located((By.ID, 'Btnuyarikapatweb')))\n",
    "    close_button.click()\n",
    "\n",
    "    time.sleep(2)\n",
    "\n",
    "    button = WebDriverWait(driver, 10).until(EC.presence_of_element_located((By.XPATH, '//button[@onclick=\"Step01Operation(1)\"]')))\n",
    "    button.click()\n",
    "\n",
    "    anchor_1 = WebDriverWait(driver, 10).until(EC.presence_of_element_located((By.XPATH, '//a[@onclick=\"Step02Operation(275)\"]')))\n",
    "    anchor_1.click()\n",
    "\n",
    "    anchor_2= WebDriverWait(driver, 10).until(EC.presence_of_element_located((By.XPATH, '//a[@onclick=\"Step03Operation(1280)\"]')))\n",
    "    anchor_2.click()\n",
    "\n",
    "\n",
    "    for i in range(9):\n",
    "        next_week_button = WebDriverWait(driver, 10).until(EC.presence_of_element_located((By.XPATH, '//a[@onclick=\"AfterWeek()\"]')))\n",
    "        next_week_button.click()\n",
    "        time.sleep(1)  \n",
    "\n",
    "    table_body = driver.find_element(By.ID, 'AjaxTbody')\n",
    "    current_content = table_body.get_attribute('innerHTML')\n",
    "    \n",
    "    if current_content != previous_content and previous_content != '':\n",
    "        send_notification('Randevu geldi!')\n",
    "    \n",
    "\n",
    "    \n",
    "    previous_content = current_content\n",
    "\n",
    "def send_notification(message):\n",
    "    url = f'https://api.telegram.org/bot{telegram_bot_token}/sendMessage'\n",
    "    payload = {'chat_id': telegram_chat_id, 'text': message}\n",
    "    response = requests.post(url, json=payload)\n",
    "    response.raise_for_status()\n",
    "\n",
    "while True:\n",
    "    check_table()\n",
    "    time.sleep(300) # 5 minutes"
   ]
  },
  {
   "cell_type": "code",
   "execution_count": null,
   "metadata": {},
   "outputs": [],
   "source": []
  },
  {
   "cell_type": "code",
   "execution_count": null,
   "metadata": {},
   "outputs": [],
   "source": []
  }
 ],
 "metadata": {
  "kernelspec": {
   "display_name": "base",
   "language": "python",
   "name": "python3"
  },
  "language_info": {
   "codemirror_mode": {
    "name": "ipython",
    "version": 3
   },
   "file_extension": ".py",
   "mimetype": "text/x-python",
   "name": "python",
   "nbconvert_exporter": "python",
   "pygments_lexer": "ipython3",
   "version": "3.9.13"
  },
  "orig_nbformat": 4
 },
 "nbformat": 4,
 "nbformat_minor": 2
}
